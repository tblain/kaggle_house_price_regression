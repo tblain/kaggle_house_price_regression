{
 "cells": [
  {
   "cell_type": "code",
   "execution_count": 8,
   "metadata": {},
   "outputs": [],
   "source": [
    "from __future__ import print_function\n",
    "\n",
    "import glob\n",
    "import math\n",
    "import os\n",
    "\n",
    "from matplotlib import cm\n",
    "from matplotlib import gridspec\n",
    "from matplotlib import pyplot as plt\n",
    "import numpy as np\n",
    "import pandas as pd\n",
    "import seaborn as sns\n",
    "from sklearn import metrics\n",
    "import tensorflow as tf\n",
    "from tensorflow.python.data import Dataset\n",
    "\n",
    "tf.logging.set_verbosity(tf.logging.ERROR)\n",
    "pd.options.display.max_rows = 10\n",
    "pd.options.display.float_format = '{:.1f}'.format"
   ]
  },
  {
   "cell_type": "code",
   "execution_count": null,
   "metadata": {},
   "outputs": [],
   "source": [
    "def parse_labels_and_features(dataset):\n",
    "    \"\"\"Extracts labels and features.\n",
    "\n",
    "    This is a good place to scale or transform the features if needed.\n",
    "\n",
    "    Args:\n",
    "    dataset: A Pandas `Dataframe`, containing the label on the first column and\n",
    "    monochrome pixel values on the remaining columns, in row major order.\n",
    "    Returns:\n",
    "    A `tuple` `(labels, features)`:\n",
    "    labels: A Pandas `Series`.\n",
    "    features: A Pandas `DataFrame`.\n",
    "    \"\"\"\n",
    "    labels = dataset[0]\n",
    "    # DataFrame.loc index ranges are inclusive at both ends.\n",
    "    features = dataset.loc[:,1:784]\n",
    "    # Scale the data to [0, 1] by dividing out the max value, 255.\n",
    "    features = features.div(255)\n",
    "\n",
    "    return labels, features"
   ]
  },
  {
   "cell_type": "code",
   "execution_count": 94,
   "metadata": {},
   "outputs": [
    {
     "data": {
      "text/plain": [
       "35253    7\n",
       "41488    5\n",
       "31026    4\n",
       "14176    2\n",
       "27641    8\n",
       "        ..\n",
       "23642    0\n",
       "29882    2\n",
       "40746    1\n",
       "14217    3\n",
       "18396    8\n",
       "Name: 0, Length: 30000, dtype: int64"
      ]
     },
     "execution_count": 94,
     "metadata": {},
     "output_type": "execute_result"
    }
   ],
   "source": [
    "train_targets, train_examples = parse_labels_and_features(df_mnist[1000:30000])\n",
    "train_targets"
   ]
  },
  {
   "cell_type": "code",
   "execution_count": 93,
   "metadata": {},
   "outputs": [
    {
     "data": {
      "text/plain": [
       "25698    6\n",
       "9710     1\n",
       "16969    5\n",
       "25721    0\n",
       "41415    2\n",
       "        ..\n",
       "5764     0\n",
       "22904    5\n",
       "29542    0\n",
       "10395    2\n",
       "37893    9\n",
       "Name: 0, Length: 12000, dtype: int64"
      ]
     },
     "execution_count": 93,
     "metadata": {},
     "output_type": "execute_result"
    }
   ],
   "source": [
    "test_targets, test_examples = parse_labels_and_features(df_mnist[:1000])\n",
    "test_targets"
   ]
  },
  {
   "cell_type": "code",
   "execution_count": 103,
   "metadata": {},
   "outputs": [
    {
     "data": {
      "text/plain": [
       "35253    7\n",
       "41488    5\n",
       "31026    4\n",
       "14176    2\n",
       "27641    8\n",
       "        ..\n",
       "7371     1\n",
       "5858     4\n",
       "5011     4\n",
       "10595    5\n",
       "9310     9\n",
       "Name: 0, Length: 1000, dtype: int64"
      ]
     },
     "execution_count": 103,
     "metadata": {},
     "output_type": "execute_result"
    }
   ],
   "source": [
    "validation_targets, validation_examples = parse_labels_and_features(df_mnist[30000:])\n",
    "validation_targets"
   ]
  },
  {
   "cell_type": "code",
   "execution_count": 95,
   "metadata": {},
   "outputs": [
    {
     "data": {
      "image/png": "[encoded data removed]",
      "text/plain": [
       "<Figure size 432x288 with 1 Axes>"
      ]
     },
     "metadata": {
      "needs_background": "light"
     },
     "output_type": "display_data"
    }
   ],
   "source": [
    "rand_example = np.random.choice(train_examples.index)\n",
    "_, ax = plt.subplots()\n",
    "ax.matshow(train_examples.loc[rand_example].values.reshape(28, 28))\n",
    "ax.set_title(\"Label: %i\" % train_targets.loc[rand_example])\n",
    "ax.grid(False)"
   ]
  },
  {
   "cell_type": "code",
   "execution_count": 152,
   "metadata": {},
   "outputs": [],
   "source": [
    "def augment_2d(inputs, rotation=0, horizontal_flip=False, vertical_flip=False):\n",
    "    \"\"\"Apply additive augmentation on 2D data.\n",
    "\n",
    "    # Arguments\n",
    "      rotation: A float, the degree range for rotation (0 <= rotation < 180),\n",
    "          e.g. 3 for random image rotation between (-3.0, 3.0).\n",
    "      horizontal_flip: A boolean, whether to allow random horizontal flip,\n",
    "          e.g. true for 50% possibility to flip image horizontally.\n",
    "      vertical_flip: A boolean, whether to allow random vertical flip,\n",
    "          e.g. true for 50% possibility to flip image vertically.\n",
    "\n",
    "    # Returns\n",
    "      input data after augmentation, whose shape is the same as its original.\n",
    "    \"\"\"\n",
    "    if inputs.dtype != tf.float32:\n",
    "        inputs = tf.image.convert_image_dtype(inputs, dtype=tf.float32)\n",
    "\n",
    "    with tf.name_scope('augmentation'):\n",
    "        shp = tf.shape(inputs)\n",
    "        batch_size, height, width = shp[0], shp[1], shp[2]\n",
    "        width = tf.cast(width, tf.float32)\n",
    "        height = tf.cast(height, tf.float32)\n",
    "\n",
    "        transforms = []\n",
    "        identity = tf.constant([1, 0, 0, 0, 1, 0, 0, 0], dtype=tf.float32)\n",
    "\n",
    "        if rotation > 0:\n",
    "            angle_rad = rotation * 3.141592653589793 / 180.0\n",
    "            angles = tf.random_uniform([batch_size], -angle_rad, angle_rad)\n",
    "            f = tf.contrib.image.angles_to_projective_transforms(angles,\n",
    "                                                                 height, width)\n",
    "            transforms.append(f)\n",
    "\n",
    "        if horizontal_flip:\n",
    "            coin = tf.less(tf.random_uniform([batch_size], 0, 1.0), 0.5)\n",
    "            shape = [-1., 0., width, 0., 1., 0., 0., 0.]\n",
    "            flip_transform = tf.convert_to_tensor(shape, dtype=tf.float32)\n",
    "            flip = tf.tile(tf.expand_dims(flip_transform, 0), [batch_size, 1])\n",
    "            noflip = tf.tile(tf.expand_dims(identity, 0), [batch_size, 1])\n",
    "            transforms.append(tf.where(coin, flip, noflip))\n",
    "\n",
    "        if vertical_flip:\n",
    "            coin = tf.less(tf.random_uniform([batch_size], 0, 1.0), 0.5)\n",
    "            shape = [1., 0., 0., 0., -1., height, 0., 0.]\n",
    "            flip_transform = tf.convert_to_tensor(shape, dtype=tf.float32)\n",
    "            flip = tf.tile(tf.expand_dims(flip_transform, 0), [batch_size, 1])\n",
    "            noflip = tf.tile(tf.expand_dims(identity, 0), [batch_size, 1])\n",
    "            transforms.append(tf.where(coin, flip, noflip))\n",
    "\n",
    "    if transforms:\n",
    "        f = tf.contrib.image.compose_transforms(*transforms)\n",
    "        inputs = tf.contrib.image.transform(inputs, f, interpolation='BILINEAR')\n",
    "    return inputs"
   ]
  },
  {
   "cell_type": "code",
   "execution_count": 13,
   "metadata": {},
   "outputs": [],
   "source": [
    "from keras.layers import Dense, Dropout, Activation, Flatten\n",
    "from keras.layers import Conv2D, Lambda, MaxPooling2D\n",
    "from keras import backend as K\n",
    "from keras import layers\n",
    "import keras\n",
    "from keras import Model"
   ]
  },
  {
   "cell_type": "code",
   "execution_count": 14,
   "metadata": {},
   "outputs": [],
   "source": [
    "img_input = layers.Input(shape=(28, 28, 1))\n",
    "\n",
    "x = layers.Conv2D(16, 3, activation='relu')(img_input)\n",
    "x = layers.Conv2D(32, 3, activation='relu')(x)\n",
    "x = layers.MaxPooling2D(2)(x)\n",
    "x = layers.Dropout(0.2)(x)\n",
    "\n",
    "x = layers.Conv2D(64, 3, activation='relu')(x)\n",
    "x = layers.Conv2D(128, 3, activation='relu')(x)\n",
    "x = layers.MaxPooling2D(2)(x)\n",
    "x = layers.Dropout(0.2)(x)\n",
    "\n",
    "x = layers.Conv2D(256, 3, activation='relu')(x)\n",
    "x = layers.MaxPooling2D(2)(x)\n",
    "\n",
    "# Flatten feature map to a 1-dim tensor so we can add fully connected layers\n",
    "x = layers.Flatten()(x)\n",
    "\n",
    "# Create a fully connected layer with ReLU activation and 512 hidden units\n",
    "x = layers.Dense(512, activation='relu')(x)\n",
    "x = layers.Dropout(0.3)(x)\n",
    "# Create output layer with a single node and sigmoid activation\n",
    "output = layers.Dense(10, activation='sigmoid')(x)\n",
    "\n",
    "# Create model:\n",
    "# input = input feature map\n",
    "# output = input feature map + stacked convolution/maxpooling layers + fully \n",
    "# connected layer + sigmoid output layer\n",
    "model = Model(img_input, output)"
   ]
  },
  {
   "cell_type": "code",
   "execution_count": 15,
   "metadata": {},
   "outputs": [],
   "source": [
    "from tensorflow.keras.optimizers import RMSprop\n",
    "\n",
    "model.compile(loss='categorical_crossentropy',\n",
    "              optimizer='adam',\n",
    "              metrics=['acc'])"
   ]
  },
  {
   "cell_type": "code",
   "execution_count": 16,
   "metadata": {},
   "outputs": [
    {
     "name": "stdout",
     "output_type": "stream",
     "text": [
      "_________________________________________________________________\n",
      "Layer (type)                 Output Shape              Param #   \n",
      "=================================================================\n",
      "input_4 (InputLayer)         (None, 28, 28, 1)         0         \n",
      "_________________________________________________________________\n",
      "conv2d_16 (Conv2D)           (None, 26, 26, 16)        160       \n",
      "_________________________________________________________________\n",
      "conv2d_17 (Conv2D)           (None, 24, 24, 32)        4640      \n",
      "_________________________________________________________________\n",
      "max_pooling2d_10 (MaxPooling (None, 12, 12, 32)        0         \n",
      "_________________________________________________________________\n",
      "dropout_10 (Dropout)         (None, 12, 12, 32)        0         \n",
      "_________________________________________________________________\n",
      "conv2d_18 (Conv2D)           (None, 10, 10, 64)        18496     \n",
      "_________________________________________________________________\n",
      "conv2d_19 (Conv2D)           (None, 8, 8, 128)         73856     \n",
      "_________________________________________________________________\n",
      "max_pooling2d_11 (MaxPooling (None, 4, 4, 128)         0         \n",
      "_________________________________________________________________\n",
      "dropout_11 (Dropout)         (None, 4, 4, 128)         0         \n",
      "_________________________________________________________________\n",
      "conv2d_20 (Conv2D)           (None, 2, 2, 256)         295168    \n",
      "_________________________________________________________________\n",
      "max_pooling2d_12 (MaxPooling (None, 1, 1, 256)         0         \n",
      "_________________________________________________________________\n",
      "flatten_4 (Flatten)          (None, 256)               0         \n",
      "_________________________________________________________________\n",
      "dense_7 (Dense)              (None, 512)               131584    \n",
      "_________________________________________________________________\n",
      "dropout_12 (Dropout)         (None, 512)               0         \n",
      "_________________________________________________________________\n",
      "dense_8 (Dense)              (None, 10)                5130      \n",
      "=================================================================\n",
      "Total params: 529,034\n",
      "Trainable params: 529,034\n",
      "Non-trainable params: 0\n",
      "_________________________________________________________________\n"
     ]
    }
   ],
   "source": [
    "model.summary()"
   ]
  },
  {
   "cell_type": "code",
   "execution_count": 17,
   "metadata": {},
   "outputs": [],
   "source": [
    "from sklearn.model_selection import train_test_split\n",
    "from keras.utils.np_utils import to_categorical\n",
    "\n",
    "train = pd.read_csv(\"/home/tblain/Documents/projet_perso/kaggle_MNIST/train.csv\")"
   ]
  },
  {
   "cell_type": "code",
   "execution_count": 18,
   "metadata": {},
   "outputs": [],
   "source": [
    "X_train_org = np.array(train.drop(['label'], axis=1)).reshape((-1, 28, 28, 1))\n",
    "\n",
    "y_train_org = train.label\n",
    "y_train_org = to_categorical(y_train_org, num_classes=10)\n",
    "\n",
    "X_train, X_val, y_train, y_val = train_test_split(X_train_org, y_train_org, test_size = 0.01)"
   ]
  },
  {
   "cell_type": "code",
   "execution_count": 19,
   "metadata": {},
   "outputs": [],
   "source": [
    "from keras.preprocessing.image import ImageDataGenerator\n",
    "\n",
    "datagen = ImageDataGenerator(rescale=1/255,\n",
    "        rotation_range=10,  # randomly rotate images in the range (degrees, 0 to 180)\n",
    "        zoom_range = 0.1, # Randomly zoom image \n",
    "        width_shift_range=0.1,  # randomly shift images horizontally (fraction of total width)\n",
    "        height_shift_range=0.1,  # randomly shift images vertically (fraction of total height)\n",
    ")"
   ]
  },
  {
   "cell_type": "code",
   "execution_count": 36,
   "metadata": {},
   "outputs": [
    {
     "name": "stdout",
     "output_type": "stream",
     "text": [
      "Epoch 1/10\n",
      "656/656 [==============================] - 29s 44ms/step - loss: 0.0258 - acc: 0.9925 - val_loss: nan - val_acc: 0.9571\n",
      "Epoch 2/10\n",
      "656/656 [==============================] - 29s 44ms/step - loss: 0.0254 - acc: 0.9928 - val_loss: nan - val_acc: 0.9500\n",
      "Epoch 3/10\n",
      "656/656 [==============================] - 29s 44ms/step - loss: 0.0248 - acc: 0.9929 - val_loss: nan - val_acc: 0.9738\n",
      "Epoch 4/10\n",
      "656/656 [==============================] - 29s 44ms/step - loss: 0.0223 - acc: 0.9933 - val_loss: nan - val_acc: 0.9738\n",
      "Epoch 5/10\n",
      "656/656 [==============================] - 29s 44ms/step - loss: 0.0242 - acc: 0.9934 - val_loss: nan - val_acc: 0.9786\n",
      "Epoch 6/10\n",
      "656/656 [==============================] - 29s 44ms/step - loss: 0.0239 - acc: 0.9929 - val_loss: nan - val_acc: 0.9738\n",
      "Epoch 7/10\n",
      "656/656 [==============================] - 32s 49ms/step - loss: 0.0240 - acc: 0.9933 - val_loss: nan - val_acc: 0.9595\n",
      "Epoch 8/10\n",
      "656/656 [==============================] - 30s 45ms/step - loss: 0.0216 - acc: 0.9936 - val_loss: nan - val_acc: 0.9643\n",
      "Epoch 9/10\n",
      "656/656 [==============================] - 27s 42ms/step - loss: 0.0257 - acc: 0.9928 - val_loss: nan - val_acc: 0.9167\n",
      "Epoch 10/10\n",
      "656/656 [==============================] - 27s 42ms/step - loss: 0.0225 - acc: 0.9929 - val_loss: nan - val_acc: 0.9524\n"
     ]
    }
   ],
   "source": [
    "batch_size = 64\n",
    "data_flow = datagen.flow(x=X_train, y=y_train, batch_size=batch_size)\n",
    "history = model.fit_generator(data_flow, steps_per_epoch=len(X_train_org) // batch_size, epochs=10, \\\n",
    "                              validation_data=(X_val, y_val))"
   ]
  },
  {
   "cell_type": "code",
   "execution_count": 24,
   "metadata": {},
   "outputs": [],
   "source": [
    "X_test = np.array(pd.read_csv(\"/home/tblain/Documents/projet_perso/kaggle_MNIST/test.csv\")).reshape((-1, 28, 28, 1))\n",
    "X_test = X_test / 255\n"
   ]
  },
  {
   "cell_type": "code",
   "execution_count": 25,
   "metadata": {},
   "outputs": [
    {
     "name": "stdout",
     "output_type": "stream",
     "text": [
      "28000/28000 [==============================] - 6s 197us/step\n"
     ]
    }
   ],
   "source": [
    "y_test = model.predict(X_test, verbose=1)\n"
   ]
  },
  {
   "cell_type": "code",
   "execution_count": 26,
   "metadata": {},
   "outputs": [
    {
     "data": {
      "text/plain": [
       "array([2, 0, 9, ..., 3, 9, 2])"
      ]
     },
     "execution_count": 26,
     "metadata": {},
     "output_type": "execute_result"
    }
   ],
   "source": [
    "y_test = np.argmax(y_test, axis=-1)\n",
    "y_test"
   ]
  },
  {
   "cell_type": "code",
   "execution_count": 33,
   "metadata": {},
   "outputs": [],
   "source": [
    "y_test = pd.DataFrame(y_test, index=range(1, len(y_test)+1), columns=['Label'])"
   ]
  },
  {
   "cell_type": "code",
   "execution_count": 34,
   "metadata": {},
   "outputs": [],
   "source": [
    "y_test.to_csv(\"submission.csv\", index_label='ImageId')"
   ]
  },
  {
   "cell_type": "code",
   "execution_count": null,
   "metadata": {},
   "outputs": [],
   "source": []
  }
 ],
 "metadata": {
  "kernelspec": {
   "display_name": "Python 3",
   "language": "python",
   "name": "python3"
  },
  "language_info": {
   "codemirror_mode": {
    "name": "ipython",
    "version": 3
   },
   "file_extension": ".py",
   "mimetype": "text/x-python",
   "name": "python",
   "nbconvert_exporter": "python",
   "pygments_lexer": "ipython3",
   "version": "3.6.7"
  }
 },
 "nbformat": 4,
 "nbformat_minor": 2
}
